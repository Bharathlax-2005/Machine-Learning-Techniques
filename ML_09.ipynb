{
  "nbformat": 4,
  "nbformat_minor": 0,
  "metadata": {
    "colab": {
      "provenance": []
    },
    "kernelspec": {
      "name": "python3",
      "display_name": "Python 3"
    },
    "language_info": {
      "name": "python"
    }
  },
  "cells": [
    {
      "cell_type": "code",
      "execution_count": 1,
      "metadata": {
        "colab": {
          "base_uri": "https://localhost:8080/"
        },
        "id": "t4xIM5yjgLGT",
        "outputId": "57459d92-5f7c-4891-a798-bc633c965b0d"
      },
      "outputs": [
        {
          "output_type": "stream",
          "name": "stdout",
          "text": [
            "Frequent Itemsets:\n",
            "     support                                           itemsets\n",
            "0   0.213333                            (sepal length (cm)_4-5)\n",
            "1   0.380000                            (sepal length (cm)_5-6)\n",
            "2   0.326667                            (sepal length (cm)_6-7)\n",
            "3   0.080000                            (sepal length (cm)_7-8)\n",
            "4   0.546667                             (sepal width (cm)_2-3)\n",
            "..       ...                                                ...\n",
            "88  0.146667  (species_setosa, petal length (cm)_1-2, petal ...\n",
            "89  0.093333  (sepal width (cm)_2-3, petal width (cm)_1-2, s...\n",
            "90  0.253333  (petal length (cm)_1-2, sepal width (cm)_3-4, ...\n",
            "91  0.126667  (petal length (cm)_1-2, petal width (cm)_0-1, ...\n",
            "92  0.126667  (sepal length (cm)_5-6, petal length (cm)_1-2,...\n",
            "\n",
            "[93 rows x 2 columns]\n"
          ]
        }
      ],
      "source": [
        "import pandas as pd\n",
        "import numpy as np\n",
        "from mlxtend.frequent_patterns import apriori, association_rules\n",
        "from sklearn.datasets import load_iris\n",
        "\n",
        "# Load Iris dataset\n",
        "data = load_iris()\n",
        "iris_df = pd.DataFrame(data.data, columns=data.feature_names)\n",
        "\n",
        "# Convert continuous features to categorical bins\n",
        "bins = {\n",
        "    'sepal length (cm)': [4, 5, 6, 7, 8],\n",
        "    'sepal width (cm)': [2, 3, 4],\n",
        "    'petal length (cm)': [1, 2, 3, 4],\n",
        "    'petal width (cm)': [0, 1, 2, 3]\n",
        "}\n",
        "\n",
        "# Convert continuous variables to categorical variables\n",
        "for column, bin_edges in bins.items():\n",
        "    iris_df[column] = pd.cut(iris_df[column], bins=bin_edges, labels=[f\"{bin_edges[i]}-{bin_edges[i+1]}\" for i in range(len(bin_edges)-1)])\n",
        "\n",
        "# Add species to the dataset (categorical as well)\n",
        "iris_df['species'] = pd.Categorical.from_codes(data.target, data.target_names)\n",
        "\n",
        "# For Apriori, we need binary encoding of the dataset\n",
        "# Create binary indicator columns for each feature-value pair\n",
        "def encode(df):\n",
        "    df_encoded = pd.get_dummies(df)\n",
        "    return df_encoded\n",
        "\n",
        "# Encoding the dataframe\n",
        "encoded_df = encode(iris_df)\n",
        "\n",
        "# Apply the Apriori algorithm with a minimum support of 8% (0.08) and confidence of 50% (0.5)\n",
        "min_support = 0.08\n",
        "min_confidence = 0.5\n",
        "\n",
        "# Generate frequent itemsets with the Apriori algorithm\n",
        "frequent_itemsets = apriori(encoded_df, min_support=min_support, use_colnames=True)\n",
        "\n",
        "# Display the frequent itemsets (support for each itemset)\n",
        "print(\"Frequent Itemsets:\")\n",
        "print(frequent_itemsets)\n"
      ]
    },
    {
      "cell_type": "code",
      "source": [
        "\n",
        "# Generate the association rules\n",
        "rules = association_rules(frequent_itemsets, metric=\"confidence\", min_threshold=min_confidence)\n",
        "\n",
        "# Display the association rules\n",
        "print(\"\\nAssociation Rules:\")\n",
        "print(rules)\n",
        "\n",
        "\n"
      ],
      "metadata": {
        "id": "SGOK13hHhWB1",
        "colab": {
          "base_uri": "https://localhost:8080/"
        },
        "outputId": "40fe39dd-c63d-47d1-fd6d-b8e8c10f3a56"
      },
      "execution_count": 2,
      "outputs": [
        {
          "output_type": "stream",
          "name": "stdout",
          "text": [
            "\n",
            "Association Rules:\n",
            "                                        antecedents  \\\n",
            "0                           (sepal length (cm)_4-5)   \n",
            "1                           (sepal length (cm)_4-5)   \n",
            "2                           (petal length (cm)_1-2)   \n",
            "3                           (sepal length (cm)_4-5)   \n",
            "4                            (petal width (cm)_0-1)   \n",
            "..                                              ...   \n",
            "269  (petal length (cm)_1-2, sepal length (cm)_5-6)   \n",
            "270   (petal width (cm)_0-1, sepal length (cm)_5-6)   \n",
            "271         (species_setosa, sepal length (cm)_5-6)   \n",
            "272   (sepal width (cm)_3-4, sepal length (cm)_5-6)   \n",
            "273   (petal length (cm)_1-2, sepal width (cm)_3-4)   \n",
            "\n",
            "                                           consequents  antecedent support  \\\n",
            "0                               (sepal width (cm)_3-4)            0.213333   \n",
            "1                              (petal length (cm)_1-2)            0.213333   \n",
            "2                              (sepal length (cm)_4-5)            0.326667   \n",
            "3                               (petal width (cm)_0-1)            0.213333   \n",
            "4                              (sepal length (cm)_4-5)            0.380000   \n",
            "..                                                 ...                 ...   \n",
            "269  (sepal width (cm)_3-4, petal width (cm)_0-1, s...            0.146667   \n",
            "270  (petal length (cm)_1-2, sepal width (cm)_3-4, ...            0.173333   \n",
            "271  (petal length (cm)_1-2, sepal width (cm)_3-4, ...            0.146667   \n",
            "272  (petal length (cm)_1-2, petal width (cm)_0-1, ...            0.140000   \n",
            "273  (species_setosa, petal width (cm)_0-1, sepal l...            0.253333   \n",
            "\n",
            "     consequent support   support  confidence      lift  leverage  conviction  \\\n",
            "0              0.426667  0.133333    0.625000  1.464844  0.042311    1.528889   \n",
            "1              0.326667  0.180000    0.843750  2.582908  0.110311    4.309333   \n",
            "2              0.213333  0.180000    0.551020  2.582908  0.110311    1.752121   \n",
            "3              0.380000  0.206667    0.968750  2.549342  0.125600   19.840000   \n",
            "4              0.213333  0.206667    0.543860  2.549342  0.125600    1.724615   \n",
            "..                  ...       ...         ...       ...       ...         ...   \n",
            "269            0.260000  0.126667    0.863636  3.321678  0.088533    5.426667   \n",
            "270            0.253333  0.126667    0.730769  2.884615  0.082756    2.773333   \n",
            "271            0.253333  0.126667    0.863636  3.409091  0.089511    5.475556   \n",
            "272            0.326667  0.126667    0.904762  2.769679  0.080933    7.070000   \n",
            "273            0.146667  0.126667    0.500000  3.409091  0.089511    1.706667   \n",
            "\n",
            "     zhangs_metric  \n",
            "0         0.403390  \n",
            "1         0.779033  \n",
            "2         0.910158  \n",
            "3         0.772553  \n",
            "4         0.980229  \n",
            "..             ...  \n",
            "269       0.819079  \n",
            "270       0.790323  \n",
            "271       0.828125  \n",
            "272       0.742962  \n",
            "273       0.946429  \n",
            "\n",
            "[274 rows x 10 columns]\n"
          ]
        },
        {
          "output_type": "stream",
          "name": "stderr",
          "text": [
            "/usr/local/lib/python3.10/dist-packages/ipykernel/ipkernel.py:283: DeprecationWarning: `should_run_async` will not call `transform_cell` automatically in the future. Please pass the result to `transformed_cell` argument and any exception that happen during thetransform in `preprocessing_exc_tuple` in IPython 7.17 and above.\n",
            "  and should_run_async(code)\n"
          ]
        }
      ]
    },
    {
      "cell_type": "code",
      "source": [
        "# Find the rules with confidence greater than 50%\n",
        "high_confidence_rules = rules[rules['confidence'] > 0.5]\n",
        "print(\"\\nHigh Confidence Rules (> 50% confidence):\")\n",
        "print(high_confidence_rules)"
      ],
      "metadata": {
        "colab": {
          "base_uri": "https://localhost:8080/"
        },
        "id": "xBYcL7TfdFcz",
        "outputId": "1159e110-2521-4da8-a4f7-b00411e9113b"
      },
      "execution_count": 3,
      "outputs": [
        {
          "output_type": "stream",
          "name": "stdout",
          "text": [
            "\n",
            "High Confidence Rules (> 50% confidence):\n",
            "                                           antecedents  \\\n",
            "0                              (sepal length (cm)_4-5)   \n",
            "1                              (sepal length (cm)_4-5)   \n",
            "2                              (petal length (cm)_1-2)   \n",
            "3                              (sepal length (cm)_4-5)   \n",
            "4                               (petal width (cm)_0-1)   \n",
            "..                                                 ...   \n",
            "266  (species_setosa, sepal width (cm)_3-4, sepal l...   \n",
            "269     (petal length (cm)_1-2, sepal length (cm)_5-6)   \n",
            "270      (petal width (cm)_0-1, sepal length (cm)_5-6)   \n",
            "271            (species_setosa, sepal length (cm)_5-6)   \n",
            "272      (sepal width (cm)_3-4, sepal length (cm)_5-6)   \n",
            "\n",
            "                                           consequents  antecedent support  \\\n",
            "0                               (sepal width (cm)_3-4)            0.213333   \n",
            "1                              (petal length (cm)_1-2)            0.213333   \n",
            "2                              (sepal length (cm)_4-5)            0.326667   \n",
            "3                               (petal width (cm)_0-1)            0.213333   \n",
            "4                              (sepal length (cm)_4-5)            0.380000   \n",
            "..                                                 ...                 ...   \n",
            "266      (petal length (cm)_1-2, petal width (cm)_0-1)            0.126667   \n",
            "269  (sepal width (cm)_3-4, petal width (cm)_0-1, s...            0.146667   \n",
            "270  (petal length (cm)_1-2, sepal width (cm)_3-4, ...            0.173333   \n",
            "271  (petal length (cm)_1-2, sepal width (cm)_3-4, ...            0.146667   \n",
            "272  (petal length (cm)_1-2, petal width (cm)_0-1, ...            0.140000   \n",
            "\n",
            "     consequent support   support  confidence      lift  leverage  conviction  \\\n",
            "0              0.426667  0.133333    0.625000  1.464844  0.042311    1.528889   \n",
            "1              0.326667  0.180000    0.843750  2.582908  0.110311    4.309333   \n",
            "2              0.213333  0.180000    0.551020  2.582908  0.110311    1.752121   \n",
            "3              0.380000  0.206667    0.968750  2.549342  0.125600   19.840000   \n",
            "4              0.213333  0.206667    0.543860  2.549342  0.125600    1.724615   \n",
            "..                  ...       ...         ...       ...       ...         ...   \n",
            "266            0.326667  0.126667    1.000000  3.061224  0.085289         inf   \n",
            "269            0.260000  0.126667    0.863636  3.321678  0.088533    5.426667   \n",
            "270            0.253333  0.126667    0.730769  2.884615  0.082756    2.773333   \n",
            "271            0.253333  0.126667    0.863636  3.409091  0.089511    5.475556   \n",
            "272            0.326667  0.126667    0.904762  2.769679  0.080933    7.070000   \n",
            "\n",
            "     zhangs_metric  \n",
            "0         0.403390  \n",
            "1         0.779033  \n",
            "2         0.910158  \n",
            "3         0.772553  \n",
            "4         0.980229  \n",
            "..             ...  \n",
            "266       0.770992  \n",
            "269       0.819079  \n",
            "270       0.790323  \n",
            "271       0.828125  \n",
            "272       0.742962  \n",
            "\n",
            "[253 rows x 10 columns]\n"
          ]
        },
        {
          "output_type": "stream",
          "name": "stderr",
          "text": [
            "/usr/local/lib/python3.10/dist-packages/ipykernel/ipkernel.py:283: DeprecationWarning: `should_run_async` will not call `transform_cell` automatically in the future. Please pass the result to `transformed_cell` argument and any exception that happen during thetransform in `preprocessing_exc_tuple` in IPython 7.17 and above.\n",
            "  and should_run_async(code)\n"
          ]
        }
      ]
    },
    {
      "cell_type": "code",
      "source": [],
      "metadata": {
        "id": "47sIpcq_dG4p"
      },
      "execution_count": null,
      "outputs": []
    }
  ]
}