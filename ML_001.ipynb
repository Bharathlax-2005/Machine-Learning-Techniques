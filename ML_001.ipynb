{
 "cells": [
  {
   "cell_type": "markdown",
   "metadata": {
    "id": "aWgkvl-VyuZg"
   },
   "source": [
    "\n",
    "### Explanation:\n",
    "1. **Calculate the % of missing values in a column**:\n",
    "   - This calculates the percentage of missing values in each column.\n",
    "2. **Replace missing value with mean if the % of missing value is less than 10%**:\n",
    "   - This replaces missing numerical values with the mean of the column if the percentage of missing values is less than 10%.\n",
    "3. **Perform the mode imputation for a categorical data**:\n",
    "   - This replaces missing categorical values with the mode (most frequent value) of the column if the percentage of missing values is less than 10%.\n",
    "4. **Perform a KNN Imputer to estimate the missing values**:\n",
    "   - This uses KNN Imputer to estimate and fill missing numerical values.\n",
    "5. **Drop the columns with more than 10% missing values and display the size**:\n",
    "   - This drops columns with more than 10% missing values and displays the new dataset size.\n",
    "6. **Drop the rows with outlier Z-score value > 3 and display the size**:\n",
    "   - This removes rows that have outlier Z-scores greater than 3 and displays the new dataset size.\n",
    "7. **Drop the duplicate rows based on more than 50% of column having same value**:\n",
    "   - This removes duplicate rows based on more than 50% of columns having the same value and displays the new dataset size.\n",
    "8. **Rescale your data using min-max normalization for a numerical feature**:\n",
    "   - This normalizes the 'Billing Amount' column to a range between 0 and 1.\n",
    "9. **Binarize the data by using binarizer class in python**:\n",
    "   - This binarizes the 'Billing Amount' column with a threshold of 5000.\n",
    "10. **Perform the one-hot encoding for a categorical feature**:\n",
    "    - This performs one-hot encoding on the 'Gender' column and adds the new encoded columns to the dataset."
   ]
  },
  {
   "cell_type": "code",
   "execution_count": 4,
   "metadata": {
    "colab": {
     "base_uri": "https://localhost:8080/"
    },
    "id": "yL142QIVy1bv",
    "outputId": "338431ea-382b-47ce-af10-233645d7492a"
   },
   "outputs": [
    {
     "name": "stdout",
     "output_type": "stream",
     "text": [
      "Original Dataset:\n",
      "                  Name  Age  Gender Blood Type Medical Condition  \\\n",
      "0      Tiffany Ramirez   81  Female         O-          Diabetes   \n",
      "1          Ruben Burns   35    Male         O+            Asthma   \n",
      "2            Chad Byrd   61    Male         B-           Obesity   \n",
      "3    Antonio Frederick   49    Male         B-            Asthma   \n",
      "4  Mrs. Brandy Flowers   51    Male         O-         Arthritis   \n",
      "\n",
      "  Date of Admission          Doctor                   Hospital  \\\n",
      "0        2022-11-17  Patrick Parker           Wallace-Hamilton   \n",
      "1        2023-06-01   Diane Jackson  Burke, Griffin and Cooper   \n",
      "2        2019-01-09      Paul Baker                 Walton LLC   \n",
      "3        2020-05-02  Brian Chandler                 Garcia Ltd   \n",
      "4        2021-07-09  Dustin Griffin    Jones, Brown and Murray   \n",
      "\n",
      "  Insurance Provider  Billing Amount  Room Number Admission Type  \\\n",
      "0           Medicare    37490.983364          146       Elective   \n",
      "1   UnitedHealthcare    47304.064845          404      Emergency   \n",
      "2           Medicare    36874.896997          292      Emergency   \n",
      "3           Medicare    23303.322092          480         Urgent   \n",
      "4   UnitedHealthcare    18086.344184          477         Urgent   \n",
      "\n",
      "  Discharge Date   Medication  Test Results  \n",
      "0     2022-12-01      Aspirin  Inconclusive  \n",
      "1     2023-06-15      Lipitor        Normal  \n",
      "2     2019-02-08      Lipitor        Normal  \n",
      "3     2020-05-03   Penicillin      Abnormal  \n",
      "4     2021-08-02  Paracetamol        Normal  \n",
      "Dataset with Missing Values:\n"
     ]
    },
    {
     "data": {
      "text/html": [
       "<div>\n",
       "<style scoped>\n",
       "    .dataframe tbody tr th:only-of-type {\n",
       "        vertical-align: middle;\n",
       "    }\n",
       "\n",
       "    .dataframe tbody tr th {\n",
       "        vertical-align: top;\n",
       "    }\n",
       "\n",
       "    .dataframe thead th {\n",
       "        text-align: right;\n",
       "    }\n",
       "</style>\n",
       "<table border=\"1\" class=\"dataframe\">\n",
       "  <thead>\n",
       "    <tr style=\"text-align: right;\">\n",
       "      <th></th>\n",
       "      <th>Name</th>\n",
       "      <th>Age</th>\n",
       "      <th>Gender</th>\n",
       "      <th>Blood Type</th>\n",
       "      <th>Medical Condition</th>\n",
       "      <th>Date of Admission</th>\n",
       "      <th>Doctor</th>\n",
       "      <th>Hospital</th>\n",
       "      <th>Insurance Provider</th>\n",
       "      <th>Billing Amount</th>\n",
       "      <th>Room Number</th>\n",
       "      <th>Admission Type</th>\n",
       "      <th>Discharge Date</th>\n",
       "      <th>Medication</th>\n",
       "      <th>Test Results</th>\n",
       "    </tr>\n",
       "  </thead>\n",
       "  <tbody>\n",
       "    <tr>\n",
       "      <th>9995</th>\n",
       "      <td>James Hood</td>\n",
       "      <td>83.0</td>\n",
       "      <td>Male</td>\n",
       "      <td>A+</td>\n",
       "      <td>Obesity</td>\n",
       "      <td>2022-07-29</td>\n",
       "      <td>Samuel Moody</td>\n",
       "      <td>Wood, Martin and Simmons</td>\n",
       "      <td>UnitedHealthcare</td>\n",
       "      <td>39606.840083</td>\n",
       "      <td>110</td>\n",
       "      <td>Elective</td>\n",
       "      <td>2022-08-02</td>\n",
       "      <td>Ibuprofen</td>\n",
       "      <td>Abnormal</td>\n",
       "    </tr>\n",
       "    <tr>\n",
       "      <th>9996</th>\n",
       "      <td>Stephanie Evans</td>\n",
       "      <td>47.0</td>\n",
       "      <td>Female</td>\n",
       "      <td>AB+</td>\n",
       "      <td>Arthritis</td>\n",
       "      <td>2022-01-06</td>\n",
       "      <td>Christopher Yates</td>\n",
       "      <td>Nash-Krueger</td>\n",
       "      <td>Blue Cross</td>\n",
       "      <td>5995.717488</td>\n",
       "      <td>244</td>\n",
       "      <td>Emergency</td>\n",
       "      <td>2022-01-29</td>\n",
       "      <td>Ibuprofen</td>\n",
       "      <td>Normal</td>\n",
       "    </tr>\n",
       "    <tr>\n",
       "      <th>9997</th>\n",
       "      <td>Christopher Martinez</td>\n",
       "      <td>54.0</td>\n",
       "      <td>Male</td>\n",
       "      <td>B-</td>\n",
       "      <td>Arthritis</td>\n",
       "      <td>2022-07-01</td>\n",
       "      <td>Robert Nicholson</td>\n",
       "      <td>Larson and Sons</td>\n",
       "      <td>Blue Cross</td>\n",
       "      <td>49559.202905</td>\n",
       "      <td>312</td>\n",
       "      <td>Elective</td>\n",
       "      <td>2022-07-15</td>\n",
       "      <td>Ibuprofen</td>\n",
       "      <td>Normal</td>\n",
       "    </tr>\n",
       "    <tr>\n",
       "      <th>9998</th>\n",
       "      <td>Amanda Duke</td>\n",
       "      <td>84.0</td>\n",
       "      <td>Male</td>\n",
       "      <td>A+</td>\n",
       "      <td>Arthritis</td>\n",
       "      <td>2020-02-06</td>\n",
       "      <td>Jamie Lewis</td>\n",
       "      <td>Wilson-Lyons</td>\n",
       "      <td>UnitedHealthcare</td>\n",
       "      <td>25236.344761</td>\n",
       "      <td>420</td>\n",
       "      <td>Urgent</td>\n",
       "      <td>2020-02-26</td>\n",
       "      <td>Penicillin</td>\n",
       "      <td>Normal</td>\n",
       "    </tr>\n",
       "    <tr>\n",
       "      <th>9999</th>\n",
       "      <td>Eric King</td>\n",
       "      <td>20.0</td>\n",
       "      <td>Male</td>\n",
       "      <td>B-</td>\n",
       "      <td>Arthritis</td>\n",
       "      <td>2023-03-22</td>\n",
       "      <td>Tasha Avila</td>\n",
       "      <td>Torres, Young and Stewart</td>\n",
       "      <td>Aetna</td>\n",
       "      <td>37223.965865</td>\n",
       "      <td>290</td>\n",
       "      <td>Emergency</td>\n",
       "      <td>2023-04-15</td>\n",
       "      <td>Penicillin</td>\n",
       "      <td>Abnormal</td>\n",
       "    </tr>\n",
       "    <tr>\n",
       "      <th>10000</th>\n",
       "      <td>John Doe</td>\n",
       "      <td>NaN</td>\n",
       "      <td>Male</td>\n",
       "      <td>A+</td>\n",
       "      <td>Hypertension</td>\n",
       "      <td>2023-01-01</td>\n",
       "      <td>Dr. A</td>\n",
       "      <td>Hospital A</td>\n",
       "      <td>Provider A</td>\n",
       "      <td>5000.000000</td>\n",
       "      <td>101</td>\n",
       "      <td>Elective</td>\n",
       "      <td>2023-01-10</td>\n",
       "      <td>Med A</td>\n",
       "      <td>Normal</td>\n",
       "    </tr>\n",
       "    <tr>\n",
       "      <th>10001</th>\n",
       "      <td>Jane Smith</td>\n",
       "      <td>40.0</td>\n",
       "      <td>Female</td>\n",
       "      <td>NaN</td>\n",
       "      <td>Cancer</td>\n",
       "      <td>2023-01-02</td>\n",
       "      <td>Dr. B</td>\n",
       "      <td>Hospital B</td>\n",
       "      <td>Provider B</td>\n",
       "      <td>NaN</td>\n",
       "      <td>102</td>\n",
       "      <td>Emergency</td>\n",
       "      <td>2023-01-12</td>\n",
       "      <td>Med B</td>\n",
       "      <td>Abnormal</td>\n",
       "    </tr>\n",
       "    <tr>\n",
       "      <th>10002</th>\n",
       "      <td>Alice Brown</td>\n",
       "      <td>35.0</td>\n",
       "      <td>Female</td>\n",
       "      <td>O-</td>\n",
       "      <td>NaN</td>\n",
       "      <td>2023-01-03</td>\n",
       "      <td>Dr. C</td>\n",
       "      <td>Hospital C</td>\n",
       "      <td>NaN</td>\n",
       "      <td>7000.000000</td>\n",
       "      <td>103</td>\n",
       "      <td>Urgent</td>\n",
       "      <td>2023-01-14</td>\n",
       "      <td>Med C</td>\n",
       "      <td>Normal</td>\n",
       "    </tr>\n",
       "    <tr>\n",
       "      <th>10003</th>\n",
       "      <td>Bob White</td>\n",
       "      <td>NaN</td>\n",
       "      <td>Male</td>\n",
       "      <td>B+</td>\n",
       "      <td>Asthma</td>\n",
       "      <td>2023-01-04</td>\n",
       "      <td>Dr. D</td>\n",
       "      <td>Hospital D</td>\n",
       "      <td>Provider D</td>\n",
       "      <td>8000.000000</td>\n",
       "      <td>104</td>\n",
       "      <td>NaN</td>\n",
       "      <td>2023-01-16</td>\n",
       "      <td>Med D</td>\n",
       "      <td>Inconclusive</td>\n",
       "    </tr>\n",
       "    <tr>\n",
       "      <th>10004</th>\n",
       "      <td>Eve Black</td>\n",
       "      <td>55.0</td>\n",
       "      <td>NaN</td>\n",
       "      <td>A-</td>\n",
       "      <td>Diabetes</td>\n",
       "      <td>2023-01-05</td>\n",
       "      <td>Dr. E</td>\n",
       "      <td>Hospital E</td>\n",
       "      <td>Provider E</td>\n",
       "      <td>9000.000000</td>\n",
       "      <td>105</td>\n",
       "      <td>Emergency</td>\n",
       "      <td>2023-01-18</td>\n",
       "      <td>Med E</td>\n",
       "      <td>Normal</td>\n",
       "    </tr>\n",
       "  </tbody>\n",
       "</table>\n",
       "</div>"
      ],
      "text/plain": [
       "                       Name   Age  Gender Blood Type Medical Condition  \\\n",
       "9995             James Hood  83.0    Male         A+           Obesity   \n",
       "9996        Stephanie Evans  47.0  Female        AB+         Arthritis   \n",
       "9997   Christopher Martinez  54.0    Male         B-         Arthritis   \n",
       "9998            Amanda Duke  84.0    Male         A+         Arthritis   \n",
       "9999              Eric King  20.0    Male         B-         Arthritis   \n",
       "10000              John Doe   NaN    Male         A+      Hypertension   \n",
       "10001            Jane Smith  40.0  Female        NaN            Cancer   \n",
       "10002           Alice Brown  35.0  Female         O-               NaN   \n",
       "10003             Bob White   NaN    Male         B+            Asthma   \n",
       "10004             Eve Black  55.0     NaN         A-          Diabetes   \n",
       "\n",
       "      Date of Admission             Doctor                   Hospital  \\\n",
       "9995         2022-07-29       Samuel Moody   Wood, Martin and Simmons   \n",
       "9996         2022-01-06  Christopher Yates               Nash-Krueger   \n",
       "9997         2022-07-01   Robert Nicholson            Larson and Sons   \n",
       "9998         2020-02-06        Jamie Lewis               Wilson-Lyons   \n",
       "9999         2023-03-22        Tasha Avila  Torres, Young and Stewart   \n",
       "10000        2023-01-01              Dr. A                 Hospital A   \n",
       "10001        2023-01-02              Dr. B                 Hospital B   \n",
       "10002        2023-01-03              Dr. C                 Hospital C   \n",
       "10003        2023-01-04              Dr. D                 Hospital D   \n",
       "10004        2023-01-05              Dr. E                 Hospital E   \n",
       "\n",
       "      Insurance Provider  Billing Amount  Room Number Admission Type  \\\n",
       "9995    UnitedHealthcare    39606.840083          110       Elective   \n",
       "9996          Blue Cross     5995.717488          244      Emergency   \n",
       "9997          Blue Cross    49559.202905          312       Elective   \n",
       "9998    UnitedHealthcare    25236.344761          420         Urgent   \n",
       "9999               Aetna    37223.965865          290      Emergency   \n",
       "10000         Provider A     5000.000000          101       Elective   \n",
       "10001         Provider B             NaN          102      Emergency   \n",
       "10002                NaN     7000.000000          103         Urgent   \n",
       "10003         Provider D     8000.000000          104            NaN   \n",
       "10004         Provider E     9000.000000          105      Emergency   \n",
       "\n",
       "      Discharge Date  Medication  Test Results  \n",
       "9995      2022-08-02   Ibuprofen      Abnormal  \n",
       "9996      2022-01-29   Ibuprofen        Normal  \n",
       "9997      2022-07-15   Ibuprofen        Normal  \n",
       "9998      2020-02-26  Penicillin        Normal  \n",
       "9999      2023-04-15  Penicillin      Abnormal  \n",
       "10000     2023-01-10       Med A        Normal  \n",
       "10001     2023-01-12       Med B      Abnormal  \n",
       "10002     2023-01-14       Med C        Normal  \n",
       "10003     2023-01-16       Med D  Inconclusive  \n",
       "10004     2023-01-18       Med E        Normal  "
      ]
     },
     "execution_count": 4,
     "metadata": {},
     "output_type": "execute_result"
    }
   ],
   "source": [
    "import pandas as pd\n",
    "import numpy as np\n",
    "from sklearn.impute import KNNImputer\n",
    "from sklearn.preprocessing import MinMaxScaler, Binarizer, OneHotEncoder\n",
    "\n",
    "file_path = 'Dataset\\healthcare_dataset (1).csv'\n",
    "df = pd.read_csv(file_path)\n",
    "\n",
    "print(\"Original Dataset:\")\n",
    "print(df.head())\n",
    "\n",
    "# Adding 5 rows with some missing values for experimentation\n",
    "missing_data = pd.DataFrame({\n",
    "    'Name': ['John Doe', 'Jane Smith', 'Alice Brown', 'Bob White', 'Eve Black'],\n",
    "    'Age': [np.nan, 40, 35, np.nan, 55],\n",
    "    'Gender': ['Male', 'Female', 'Female', 'Male', np.nan],\n",
    "    'Blood Type': ['A+', np.nan, 'O-', 'B+', 'A-'],\n",
    "    'Medical Condition': ['Hypertension', 'Cancer', np.nan, 'Asthma', 'Diabetes'],\n",
    "    'Date of Admission': ['2023-01-01', '2023-01-02', '2023-01-03', '2023-01-04', '2023-01-05'],\n",
    "    'Doctor': ['Dr. A', 'Dr. B', 'Dr. C', 'Dr. D', 'Dr. E'],\n",
    "    'Hospital': ['Hospital A', 'Hospital B', 'Hospital C', 'Hospital D', 'Hospital E'],\n",
    "    'Insurance Provider': ['Provider A', 'Provider B', np.nan, 'Provider D', 'Provider E'],\n",
    "    'Billing Amount': [5000, np.nan, 7000, 8000, 9000],\n",
    "    'Room Number': [101, 102, 103, 104, 105],\n",
    "    'Admission Type': ['Elective', 'Emergency', 'Urgent', np.nan, 'Emergency'],\n",
    "    'Discharge Date': ['2023-01-10', '2023-01-12', '2023-01-14', '2023-01-16', '2023-01-18'],\n",
    "    'Medication': ['Med A', 'Med B', 'Med C', 'Med D', 'Med E'],\n",
    "    'Test Results': ['Normal', 'Abnormal', 'Normal', 'Inconclusive', 'Normal']\n",
    "})\n",
    "\n",
    "df = pd.concat([df, missing_data], ignore_index=True)\n",
    "\n",
    "print(\"Dataset with Missing Values:\")\n",
    "df.tail(10)\n"
   ]
  },
  {
   "cell_type": "code",
   "execution_count": 5,
   "metadata": {
    "colab": {
     "base_uri": "https://localhost:8080/"
    },
    "id": "MMFxnnTbzRzK",
    "outputId": "e685ed48-109c-4500-cb60-5e758f1f5c13"
   },
   "outputs": [
    {
     "name": "stdout",
     "output_type": "stream",
     "text": [
      "Percentage of Missing Values in Each Column:\n",
      "Name                  0.000000\n",
      "Age                   0.019990\n",
      "Gender                0.009995\n",
      "Blood Type            0.009995\n",
      "Medical Condition     0.009995\n",
      "Date of Admission     0.000000\n",
      "Doctor                0.000000\n",
      "Hospital              0.000000\n",
      "Insurance Provider    0.009995\n",
      "Billing Amount        0.009995\n",
      "Room Number           0.000000\n",
      "Admission Type        0.009995\n",
      "Discharge Date        0.000000\n",
      "Medication            0.000000\n",
      "Test Results          0.000000\n",
      "dtype: float64\n"
     ]
    }
   ],
   "source": [
    "# 1. Calculate the % of missing values in a column\n",
    "missing_percentage = df.isnull().mean() * 100\n",
    "print(\"Percentage of Missing Values in Each Column:\")\n",
    "print(missing_percentage)\n"
   ]
  },
  {
   "cell_type": "code",
   "execution_count": 6,
   "metadata": {
    "id": "nJzCsPXZzXWj"
   },
   "outputs": [],
   "source": [
    "# 2. Replace missing value with mean if the % of missing value is less than 10%.\n",
    "for col in df.select_dtypes(include=[np.number]).columns:\n",
    "    if missing_percentage[col] < 10:\n",
    "        df[col].fillna(df[col].mean(), inplace=True)"
   ]
  },
  {
   "cell_type": "code",
   "execution_count": 7,
   "metadata": {
    "colab": {
     "base_uri": "https://localhost:8080/"
    },
    "id": "amA5kZtyzkXb",
    "outputId": "13a5b0ee-1bd6-4ae4-c341-0eb7c7cb12d3"
   },
   "outputs": [
    {
     "name": "stdout",
     "output_type": "stream",
     "text": [
      "Missing values in 'Room Number' filled with mean.\n",
      "\n",
      "Dataset after Replacing Missing Numerical Values with Mean:\n",
      "                       Name        Age  Gender Blood Type Medical Condition  \\\n",
      "9995             James Hood  83.000000    Male         A+           Obesity   \n",
      "9996        Stephanie Evans  47.000000  Female        AB+         Arthritis   \n",
      "9997   Christopher Martinez  54.000000    Male         B-         Arthritis   \n",
      "9998            Amanda Duke  84.000000    Male         A+         Arthritis   \n",
      "9999              Eric King  20.000000    Male         B-         Arthritis   \n",
      "10000              John Doe  51.449765    Male         A+      Hypertension   \n",
      "10001            Jane Smith  40.000000  Female        NaN            Cancer   \n",
      "10002           Alice Brown  35.000000  Female         O-               NaN   \n",
      "10003             Bob White  51.449765    Male         B+            Asthma   \n",
      "10004             Eve Black  55.000000     NaN         A-          Diabetes   \n",
      "\n",
      "      Date of Admission             Doctor                   Hospital  \\\n",
      "9995         2022-07-29       Samuel Moody   Wood, Martin and Simmons   \n",
      "9996         2022-01-06  Christopher Yates               Nash-Krueger   \n",
      "9997         2022-07-01   Robert Nicholson            Larson and Sons   \n",
      "9998         2020-02-06        Jamie Lewis               Wilson-Lyons   \n",
      "9999         2023-03-22        Tasha Avila  Torres, Young and Stewart   \n",
      "10000        2023-01-01              Dr. A                 Hospital A   \n",
      "10001        2023-01-02              Dr. B                 Hospital B   \n",
      "10002        2023-01-03              Dr. C                 Hospital C   \n",
      "10003        2023-01-04              Dr. D                 Hospital D   \n",
      "10004        2023-01-05              Dr. E                 Hospital E   \n",
      "\n",
      "      Insurance Provider  Billing Amount  Room Number Admission Type  \\\n",
      "9995    UnitedHealthcare    39606.840083          110       Elective   \n",
      "9996          Blue Cross     5995.717488          244      Emergency   \n",
      "9997          Blue Cross    49559.202905          312       Elective   \n",
      "9998    UnitedHealthcare    25236.344761          420         Urgent   \n",
      "9999               Aetna    37223.965865          290      Emergency   \n",
      "10000         Provider A     5000.000000          101       Elective   \n",
      "10001         Provider B    25509.502977          102      Emergency   \n",
      "10002                NaN     7000.000000          103         Urgent   \n",
      "10003         Provider D     8000.000000          104            NaN   \n",
      "10004         Provider E     9000.000000          105      Emergency   \n",
      "\n",
      "      Discharge Date  Medication  Test Results  \n",
      "9995      2022-08-02   Ibuprofen      Abnormal  \n",
      "9996      2022-01-29   Ibuprofen        Normal  \n",
      "9997      2022-07-15   Ibuprofen        Normal  \n",
      "9998      2020-02-26  Penicillin        Normal  \n",
      "9999      2023-04-15  Penicillin      Abnormal  \n",
      "10000     2023-01-10       Med A        Normal  \n",
      "10001     2023-01-12       Med B      Abnormal  \n",
      "10002     2023-01-14       Med C        Normal  \n",
      "10003     2023-01-16       Med D  Inconclusive  \n",
      "10004     2023-01-18       Med E        Normal  \n"
     ]
    }
   ],
   "source": [
    "print(f\"Missing values in '{col}' filled with mean.\") # Print output for this step\n",
    "print(\"\\nDataset after Replacing Missing Numerical Values with Mean:\")\n",
    "print(df.tail(10))"
   ]
  },
  {
   "cell_type": "code",
   "execution_count": null,
   "metadata": {
    "colab": {
     "base_uri": "https://localhost:8080/"
    },
    "id": "xocPspBbzgAq",
    "outputId": "d160be9a-3310-4aba-84e1-d234637466cb"
   },
   "outputs": [
    {
     "name": "stdout",
     "output_type": "stream",
     "text": [
      "Missing values in 'Name' filled with mode: Michael Johnson\n",
      "Missing values in 'Gender' filled with mode: Female\n",
      "Missing values in 'Blood Type' filled with mode: AB-\n",
      "Missing values in 'Medical Condition' filled with mode: Asthma\n",
      "Missing values in 'Date of Admission' filled with mode: 2019-04-12\n",
      "Missing values in 'Doctor' filled with mode: Michael Johnson\n",
      "Missing values in 'Hospital' filled with mode: Smith PLC\n",
      "Missing values in 'Insurance Provider' filled with mode: Cigna\n",
      "Missing values in 'Admission Type' filled with mode: Urgent\n",
      "Missing values in 'Discharge Date' filled with mode: 2021-11-28\n",
      "Missing values in 'Medication' filled with mode: Penicillin\n",
      "Missing values in 'Test Results' filled with mode: Abnormal\n",
      "\n",
      "Dataset after Mode Imputation for Categorical Data:\n",
      "                       Name        Age  Gender Blood Type Medical Condition  \\\n",
      "9995             James Hood  83.000000    Male         A+           Obesity   \n",
      "9996        Stephanie Evans  47.000000  Female        AB+         Arthritis   \n",
      "9997   Christopher Martinez  54.000000    Male         B-         Arthritis   \n",
      "9998            Amanda Duke  84.000000    Male         A+         Arthritis   \n",
      "9999              Eric King  20.000000    Male         B-         Arthritis   \n",
      "10000              John Doe  51.449765    Male         A+      Hypertension   \n",
      "10001            Jane Smith  40.000000  Female        AB-            Cancer   \n",
      "10002           Alice Brown  35.000000  Female         O-            Asthma   \n",
      "10003             Bob White  51.449765    Male         B+            Asthma   \n",
      "10004             Eve Black  55.000000  Female         A-          Diabetes   \n",
      "\n",
      "      Date of Admission             Doctor                   Hospital  \\\n",
      "9995         2022-07-29       Samuel Moody   Wood, Martin and Simmons   \n",
      "9996         2022-01-06  Christopher Yates               Nash-Krueger   \n",
      "9997         2022-07-01   Robert Nicholson            Larson and Sons   \n",
      "9998         2020-02-06        Jamie Lewis               Wilson-Lyons   \n",
      "9999         2023-03-22        Tasha Avila  Torres, Young and Stewart   \n",
      "10000        2023-01-01              Dr. A                 Hospital A   \n",
      "10001        2023-01-02              Dr. B                 Hospital B   \n",
      "10002        2023-01-03              Dr. C                 Hospital C   \n",
      "10003        2023-01-04              Dr. D                 Hospital D   \n",
      "10004        2023-01-05              Dr. E                 Hospital E   \n",
      "\n",
      "      Insurance Provider  Billing Amount  Room Number Admission Type  \\\n",
      "9995    UnitedHealthcare    39606.840083          110       Elective   \n",
      "9996          Blue Cross     5995.717488          244      Emergency   \n",
      "9997          Blue Cross    49559.202905          312       Elective   \n",
      "9998    UnitedHealthcare    25236.344761          420         Urgent   \n",
      "9999               Aetna    37223.965865          290      Emergency   \n",
      "10000         Provider A     5000.000000          101       Elective   \n",
      "10001         Provider B    25509.502977          102      Emergency   \n",
      "10002              Cigna     7000.000000          103         Urgent   \n",
      "10003         Provider D     8000.000000          104         Urgent   \n",
      "10004         Provider E     9000.000000          105      Emergency   \n",
      "\n",
      "      Discharge Date  Medication  Test Results  \n",
      "9995      2022-08-02   Ibuprofen      Abnormal  \n",
      "9996      2022-01-29   Ibuprofen        Normal  \n",
      "9997      2022-07-15   Ibuprofen        Normal  \n",
      "9998      2020-02-26  Penicillin        Normal  \n",
      "9999      2023-04-15  Penicillin      Abnormal  \n",
      "10000     2023-01-10       Med A        Normal  \n",
      "10001     2023-01-12       Med B      Abnormal  \n",
      "10002     2023-01-14       Med C        Normal  \n",
      "10003     2023-01-16       Med D  Inconclusive  \n",
      "10004     2023-01-18       Med E        Normal  \n"
     ]
    }
   ],
   "source": [
    "# 3. Perform the mode imputation for a categorical data.\n",
    "for col in df.select_dtypes(include=[object]).columns:\n",
    "    if missing_percentage[col] < 10:\n",
    "        df[col].fillna(df[col].mode()[0], inplace=True)\n",
    "        print(f\"Missing values in '{col}' filled with mode: {df[col].mode()[0]}\") # Print output for this step\n",
    "print(\"\\nDataset after Mode Imputation for Categorical Data:\")\n",
    "print(df.tail(10))"
   ]
  },
  {
   "cell_type": "code",
   "execution_count": null,
   "metadata": {
    "id": "SXMDaGNt0GOJ"
   },
   "outputs": [],
   "source": [
    "# 4. Perform a KNN Imputer to estimate the missing values.\n",
    "imputer = KNNImputer(n_neighbors=2)\n",
    "df_imputed = pd.DataFrame(imputer.fit_transform(df.select_dtypes(include=[np.number])), columns=df.select_dtypes(include=[np.number]).columns)\n",
    "df.update(df_imputed)\n"
   ]
  },
  {
   "cell_type": "code",
   "execution_count": null,
   "metadata": {
    "colab": {
     "base_uri": "https://localhost:8080/"
    },
    "id": "tvSsXzwB0ktx",
    "outputId": "e1d5a096-3f09-4999-820a-efdd658be1b3"
   },
   "outputs": [
    {
     "name": "stdout",
     "output_type": "stream",
     "text": [
      "Dataset after KNN Imputer for Numerical Data:\n",
      "                       Name        Age  Gender Blood Type Medical Condition  \\\n",
      "9995             James Hood  83.000000    Male         A+           Obesity   \n",
      "9996        Stephanie Evans  47.000000  Female        AB+         Arthritis   \n",
      "9997   Christopher Martinez  54.000000    Male         B-         Arthritis   \n",
      "9998            Amanda Duke  84.000000    Male         A+         Arthritis   \n",
      "9999              Eric King  20.000000    Male         B-         Arthritis   \n",
      "10000              John Doe  51.449765    Male         A+      Hypertension   \n",
      "10001            Jane Smith  40.000000  Female        AB-            Cancer   \n",
      "10002           Alice Brown  35.000000  Female         O-            Asthma   \n",
      "10003             Bob White  51.449765    Male         B+            Asthma   \n",
      "10004             Eve Black  55.000000  Female         A-          Diabetes   \n",
      "\n",
      "      Date of Admission             Doctor                   Hospital  \\\n",
      "9995         2022-07-29       Samuel Moody   Wood, Martin and Simmons   \n",
      "9996         2022-01-06  Christopher Yates               Nash-Krueger   \n",
      "9997         2022-07-01   Robert Nicholson            Larson and Sons   \n",
      "9998         2020-02-06        Jamie Lewis               Wilson-Lyons   \n",
      "9999         2023-03-22        Tasha Avila  Torres, Young and Stewart   \n",
      "10000        2023-01-01              Dr. A                 Hospital A   \n",
      "10001        2023-01-02              Dr. B                 Hospital B   \n",
      "10002        2023-01-03              Dr. C                 Hospital C   \n",
      "10003        2023-01-04              Dr. D                 Hospital D   \n",
      "10004        2023-01-05              Dr. E                 Hospital E   \n",
      "\n",
      "      Insurance Provider  Billing Amount  Room Number Admission Type  \\\n",
      "9995    UnitedHealthcare    39606.840083          110       Elective   \n",
      "9996          Blue Cross     5995.717488          244      Emergency   \n",
      "9997          Blue Cross    49559.202905          312       Elective   \n",
      "9998    UnitedHealthcare    25236.344761          420         Urgent   \n",
      "9999               Aetna    37223.965865          290      Emergency   \n",
      "10000         Provider A     5000.000000          101       Elective   \n",
      "10001         Provider B    25509.502977          102      Emergency   \n",
      "10002              Cigna     7000.000000          103         Urgent   \n",
      "10003         Provider D     8000.000000          104         Urgent   \n",
      "10004         Provider E     9000.000000          105      Emergency   \n",
      "\n",
      "      Discharge Date  Medication  Test Results  \n",
      "9995      2022-08-02   Ibuprofen      Abnormal  \n",
      "9996      2022-01-29   Ibuprofen        Normal  \n",
      "9997      2022-07-15   Ibuprofen        Normal  \n",
      "9998      2020-02-26  Penicillin        Normal  \n",
      "9999      2023-04-15  Penicillin      Abnormal  \n",
      "10000     2023-01-10       Med A        Normal  \n",
      "10001     2023-01-12       Med B      Abnormal  \n",
      "10002     2023-01-14       Med C        Normal  \n",
      "10003     2023-01-16       Med D  Inconclusive  \n",
      "10004     2023-01-18       Med E        Normal  \n"
     ]
    }
   ],
   "source": [
    "print(\"Dataset after KNN Imputer for Numerical Data:\")\n",
    "print(df.tail(10))"
   ]
  },
  {
   "cell_type": "code",
   "execution_count": null,
   "metadata": {
    "colab": {
     "base_uri": "https://localhost:8080/"
    },
    "id": "wgp7KjVW0KV9",
    "outputId": "66642fdf-7f2a-49bc-ca3c-b6b1f16aac14"
   },
   "outputs": [
    {
     "name": "stdout",
     "output_type": "stream",
     "text": [
      "Dataset Size after Dropping Columns with >10% Missing Values: (10005, 15)\n"
     ]
    }
   ],
   "source": [
    "# 5. Drop the columns with more than 10% missing values and display the size.\n",
    "df_dropped_cols = df.dropna(axis=1, thresh=len(df) * 0.9)\n",
    "print(\"Dataset Size after Dropping Columns with >10% Missing Values:\", df_dropped_cols.shape)\n"
   ]
  },
  {
   "cell_type": "code",
   "execution_count": null,
   "metadata": {
    "colab": {
     "base_uri": "https://localhost:8080/"
    },
    "id": "-DHDkiOd0NiE",
    "outputId": "4b8fc6ed-c8b3-4d98-af80-e4d7b265087d"
   },
   "outputs": [
    {
     "name": "stdout",
     "output_type": "stream",
     "text": [
      "Dataset Size after Dropping Rows with Outlier Z-score > 3: (10005, 15)\n"
     ]
    }
   ],
   "source": [
    "# 6. Drop the rows with outlier Z-score value > 3 and display the size.\n",
    "from scipy.stats import zscore\n",
    "z_scores = df.select_dtypes(include=[np.number]).apply(zscore)\n",
    "df_no_outliers = df[(np.abs(z_scores) < 3).all(axis=1)]\n",
    "print(\"Dataset Size after Dropping Rows with Outlier Z-score > 3:\", df_no_outliers.shape)\n"
   ]
  },
  {
   "cell_type": "code",
   "execution_count": null,
   "metadata": {
    "colab": {
     "base_uri": "https://localhost:8080/"
    },
    "id": "sy_mhKBD0P-5",
    "outputId": "a5542b69-0215-47ef-9d59-fb4e5bc67b75"
   },
   "outputs": [
    {
     "name": "stdout",
     "output_type": "stream",
     "text": [
      "Dataset Size after Dropping Duplicate Rows based on >50% Columns: (10005, 15)\n"
     ]
    }
   ],
   "source": [
    "# 7. Drop the duplicate rows based on more than 50% of column having same value.\n",
    "df_no_duplicates = df.drop_duplicates(subset=df.columns[:int(len(df.columns) * 0.5)])\n",
    "print(\"Dataset Size after Dropping Duplicate Rows based on >50% Columns:\", df_no_duplicates.shape)\n"
   ]
  },
  {
   "cell_type": "code",
   "execution_count": null,
   "metadata": {
    "colab": {
     "base_uri": "https://localhost:8080/"
    },
    "id": "930W7QOS0SNa",
    "outputId": "ae546358-cfff-4945-9712-87bd7cd67fb6"
   },
   "outputs": [
    {
     "name": "stdout",
     "output_type": "stream",
     "text": [
      "Billing Amount after Min-Max Normalization:\n",
      "   Billing Amount\n",
      "0        0.744775\n",
      "1        0.945060\n",
      "2        0.732201\n",
      "3        0.455206\n",
      "4        0.348728\n"
     ]
    }
   ],
   "source": [
    "# 8. Rescale your data using min-max normalization for a numerical feature.\n",
    "scaler = MinMaxScaler()\n",
    "df['Billing Amount'] = scaler.fit_transform(df[['Billing Amount']])\n",
    "print(\"Billing Amount after Min-Max Normalization:\")\n",
    "print(df[['Billing Amount']].head())"
   ]
  },
  {
   "cell_type": "code",
   "execution_count": null,
   "metadata": {
    "colab": {
     "base_uri": "https://localhost:8080/"
    },
    "id": "dcpPcpst0UR5",
    "outputId": "4fba821b-c793-4b4f-e668-cd794bb4217a"
   },
   "outputs": [
    {
     "name": "stdout",
     "output_type": "stream",
     "text": [
      "Billing Amount after Binarization:\n",
      "   Billing Amount Binarized\n",
      "0                       0.0\n",
      "1                       0.0\n",
      "2                       0.0\n",
      "3                       0.0\n",
      "4                       0.0\n"
     ]
    }
   ],
   "source": [
    "# 9. Binarize the data by using binarizer class in python\n",
    "binarizer = Binarizer(threshold=5000)\n",
    "df['Billing Amount Binarized'] = binarizer.fit_transform(df[['Billing Amount']])\n",
    "print(\"Billing Amount after Binarization:\")\n",
    "print(df[['Billing Amount Binarized']].head())\n"
   ]
  },
  {
   "cell_type": "code",
   "execution_count": null,
   "metadata": {
    "colab": {
     "base_uri": "https://localhost:8080/"
    },
    "id": "kG_azF2b0Wkr",
    "outputId": "42aa295c-1929-4639-eca1-b15c31cd619b"
   },
   "outputs": [
    {
     "name": "stdout",
     "output_type": "stream",
     "text": [
      "Dataset after One-Hot Encoding 'Gender':\n",
      "                  Name   Age  Gender Blood Type Medical Condition  \\\n",
      "0      Tiffany Ramirez  81.0  Female         O-          Diabetes   \n",
      "1          Ruben Burns  35.0    Male         O+            Asthma   \n",
      "2            Chad Byrd  61.0    Male         B-           Obesity   \n",
      "3    Antonio Frederick  49.0    Male         B-            Asthma   \n",
      "4  Mrs. Brandy Flowers  51.0    Male         O-         Arthritis   \n",
      "\n",
      "  Date of Admission          Doctor                   Hospital  \\\n",
      "0        2022-11-17  Patrick Parker           Wallace-Hamilton   \n",
      "1        2023-06-01   Diane Jackson  Burke, Griffin and Cooper   \n",
      "2        2019-01-09      Paul Baker                 Walton LLC   \n",
      "3        2020-05-02  Brian Chandler                 Garcia Ltd   \n",
      "4        2021-07-09  Dustin Griffin    Jones, Brown and Murray   \n",
      "\n",
      "  Insurance Provider  Billing Amount  Room Number Admission Type  \\\n",
      "0           Medicare        0.744775          146       Elective   \n",
      "1   UnitedHealthcare        0.945060          404      Emergency   \n",
      "2           Medicare        0.732201          292      Emergency   \n",
      "3           Medicare        0.455206          480         Urgent   \n",
      "4   UnitedHealthcare        0.348728          477         Urgent   \n",
      "\n",
      "  Discharge Date   Medication  Test Results  Billing Amount Binarized  \\\n",
      "0     2022-12-01      Aspirin  Inconclusive                       0.0   \n",
      "1     2023-06-15      Lipitor        Normal                       0.0   \n",
      "2     2019-02-08      Lipitor        Normal                       0.0   \n",
      "3     2020-05-03   Penicillin      Abnormal                       0.0   \n",
      "4     2021-08-02  Paracetamol        Normal                       0.0   \n",
      "\n",
      "   Gender_Female  Gender_Male  \n",
      "0            1.0          0.0  \n",
      "1            0.0          1.0  \n",
      "2            0.0          1.0  \n",
      "3            0.0          1.0  \n",
      "4            0.0          1.0  \n"
     ]
    },
    {
     "name": "stderr",
     "output_type": "stream",
     "text": [
      "/usr/local/lib/python3.10/dist-packages/sklearn/preprocessing/_encoders.py:868: FutureWarning: `sparse` was renamed to `sparse_output` in version 1.2 and will be removed in 1.4. `sparse_output` is ignored unless you leave `sparse` to its default value.\n",
      "  warnings.warn(\n"
     ]
    }
   ],
   "source": [
    "# 10. Perform the one-hot encoding for a categorical feature.\n",
    "encoder = OneHotEncoder(sparse=False)\n",
    "encoded_columns = encoder.fit_transform(df[['Gender']])\n",
    "encoded_df = pd.DataFrame(encoded_columns, columns=encoder.get_feature_names_out(['Gender']))\n",
    "df = df.join(encoded_df)\n",
    "print(\"Dataset after One-Hot Encoding 'Gender':\")\n",
    "print(df.head())"
   ]
  }
 ],
 "metadata": {
  "colab": {
   "provenance": []
  },
  "kernelspec": {
   "display_name": "Python 3",
   "name": "python3"
  },
  "language_info": {
   "codemirror_mode": {
    "name": "ipython",
    "version": 3
   },
   "file_extension": ".py",
   "mimetype": "text/x-python",
   "name": "python",
   "nbconvert_exporter": "python",
   "pygments_lexer": "ipython3",
   "version": "3.11.4"
  }
 },
 "nbformat": 4,
 "nbformat_minor": 0
}
