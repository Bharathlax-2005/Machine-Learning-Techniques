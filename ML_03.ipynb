{
 "cells": [
  {
   "cell_type": "markdown",
   "metadata": {
    "id": "b6GDNx4dcb3u"
   },
   "source": [
    "\n",
    "### REG:URK22AI1030\n",
    "### Simple Linear Regression\n",
    "\n",
    "#### Steps:\n",
    "1. Read the CSV data into a pandas DataFrame\n",
    "2. Preprocess the data as necessary\n",
    "3. Choose the independent variable (X) and the dependent variable (Y)\n",
    "4. Find the coefficients \\(b_0\\) and \\(b_1\\) to get the predicted \\(Y\\) (Y_pred)\n",
    "5. Calculate the Sum of Squared Errors (SSE)\n",
    "6. Calculate the Root Mean Square Error (RMSE)\n",
    "7. Calculate the coefficient of determination (\\(r^2\\))\n",
    "8. Plot the regression line along with the given data points\n",
    "9. Predict the output for a given input value\n"
   ]
  },
  {
   "cell_type": "code",
   "execution_count": 1,
   "metadata": {
    "colab": {
     "base_uri": "https://localhost:8080/"
    },
    "id": "OGe_9juUdBhZ",
    "outputId": "4741b47e-a8e4-4609-c148-bfcd466b878c"
   },
   "outputs": [
    {
     "name": "stdout",
     "output_type": "stream",
     "text": [
      "Defaulting to user installation because normal site-packages is not writeable\n",
      "Requirement already satisfied: pandas in c:\\programdata\\anaconda3\\lib\\site-packages (2.2.2)\n",
      "Requirement already satisfied: numpy in c:\\programdata\\anaconda3\\lib\\site-packages (1.26.4)\n",
      "Requirement already satisfied: matplotlib in c:\\programdata\\anaconda3\\lib\\site-packages (3.8.4)\n",
      "Requirement already satisfied: scikit-learn in c:\\programdata\\anaconda3\\lib\\site-packages (1.4.2)\n",
      "Requirement already satisfied: python-dateutil>=2.8.2 in c:\\programdata\\anaconda3\\lib\\site-packages (from pandas) (2.9.0.post0)\n",
      "Requirement already satisfied: pytz>=2020.1 in c:\\programdata\\anaconda3\\lib\\site-packages (from pandas) (2024.1)\n",
      "Requirement already satisfied: tzdata>=2022.7 in c:\\programdata\\anaconda3\\lib\\site-packages (from pandas) (2023.3)\n",
      "Requirement already satisfied: contourpy>=1.0.1 in c:\\programdata\\anaconda3\\lib\\site-packages (from matplotlib) (1.2.0)\n",
      "Requirement already satisfied: cycler>=0.10 in c:\\programdata\\anaconda3\\lib\\site-packages (from matplotlib) (0.11.0)\n",
      "Requirement already satisfied: fonttools>=4.22.0 in c:\\programdata\\anaconda3\\lib\\site-packages (from matplotlib) (4.51.0)\n",
      "Requirement already satisfied: kiwisolver>=1.3.1 in c:\\programdata\\anaconda3\\lib\\site-packages (from matplotlib) (1.4.4)\n",
      "Requirement already satisfied: packaging>=20.0 in c:\\programdata\\anaconda3\\lib\\site-packages (from matplotlib) (23.2)\n",
      "Requirement already satisfied: pillow>=8 in c:\\programdata\\anaconda3\\lib\\site-packages (from matplotlib) (10.3.0)\n",
      "Requirement already satisfied: pyparsing>=2.3.1 in c:\\programdata\\anaconda3\\lib\\site-packages (from matplotlib) (3.0.9)\n",
      "Requirement already satisfied: scipy>=1.6.0 in c:\\programdata\\anaconda3\\lib\\site-packages (from scikit-learn) (1.13.1)\n",
      "Requirement already satisfied: joblib>=1.2.0 in c:\\programdata\\anaconda3\\lib\\site-packages (from scikit-learn) (1.4.2)\n",
      "Requirement already satisfied: threadpoolctl>=2.0.0 in c:\\programdata\\anaconda3\\lib\\site-packages (from scikit-learn) (2.2.0)\n",
      "Requirement already satisfied: six>=1.5 in c:\\programdata\\anaconda3\\lib\\site-packages (from python-dateutil>=2.8.2->pandas) (1.16.0)\n"
     ]
    }
   ],
   "source": [
    "!pip install pandas numpy matplotlib scikit-learn"
   ]
  },
  {
   "cell_type": "code",
   "execution_count": 2,
   "metadata": {
    "colab": {
     "base_uri": "https://localhost:8080/",
     "height": 856
    },
    "id": "tR7NOu55cp7D",
    "outputId": "2d13553f-5964-4317-e6d9-53ab82725fd6"
   },
   "outputs": [
    {
     "name": "stdout",
     "output_type": "stream",
     "text": [
      "   age  sex  cp  trestbps  chol  fbs  restecg  thalach  exang  oldpeak  slope  \\\n",
      "0   63    1   3       145   233    1        0      150      0      2.3      0   \n",
      "1   37    1   2       130   250    0        1      187      0      3.5      0   \n",
      "2   41    0   1       130   204    0        0      172      0      1.4      2   \n",
      "3   56    1   1       120   236    0        1      178      0      0.8      2   \n",
      "4   57    0   0       120   354    0        1      163      1      0.6      2   \n",
      "\n",
      "   ca  thal  target  \n",
      "0   0     1       1  \n",
      "1   0     2       1  \n",
      "2   0     2       1  \n",
      "3   0     2       1  \n",
      "4   0     2       1  \n",
      "Intercept (b0): 174.392962351625\n",
      "Coefficient (b1): 1.330265789901878\n",
      "SSE: 139003.85615393321\n",
      "RMSE: 47.7362727936358\n",
      "r2: 0.0010067149019027388\n"
     ]
    },
    {
     "data": {
      "image/png": "[encoded data removed]",
      "text/plain": [
       "<Figure size 640x480 with 1 Axes>"
      ]
     },
     "metadata": {},
     "output_type": "display_data"
    },
    {
     "name": "stdout",
     "output_type": "stream",
     "text": [
      "Predicted Cholesterol for Age 55: 247.55758079622828\n"
     ]
    },
    {
     "name": "stderr",
     "output_type": "stream",
     "text": [
      "C:\\ProgramData\\anaconda3\\Lib\\site-packages\\sklearn\\base.py:493: UserWarning: X does not have valid feature names, but LinearRegression was fitted with feature names\n",
      "  warnings.warn(\n"
     ]
    }
   ],
   "source": [
    "# Simple Linear Regression\n",
    "\n",
    "import pandas as pd\n",
    "import numpy as np\n",
    "import matplotlib.pyplot as plt\n",
    "from sklearn.model_selection import train_test_split\n",
    "from sklearn.linear_model import LinearRegression\n",
    "from sklearn.metrics import mean_squared_error, r2_score\n",
    "\n",
    "data = pd.read_csv('heart.csv')\n",
    "\n",
    "print(data.head())\n",
    "\n",
    "\n",
    "X = data[['age']]\n",
    "Y = data['chol']\n",
    "\n",
    "X_train, X_test, Y_train, Y_test = train_test_split(X, Y, test_size=0.2, random_state=42)\n",
    "\n",
    "model = LinearRegression()\n",
    "\n",
    "model.fit(X_train, Y_train)\n",
    "\n",
    "Y_pred = model.predict(X_test)\n",
    "\n",
    "b0 = model.intercept_\n",
    "b1 = model.coef_[0]\n",
    "\n",
    "print(f\"Intercept (b0): {b0}\")\n",
    "print(f\"Coefficient (b1): {b1}\")\n",
    "\n",
    "SSE = np.sum((Y_test - Y_pred) ** 2)\n",
    "print(f\"SSE: {SSE}\")\n",
    "\n",
    "RMSE = np.sqrt(mean_squared_error(Y_test, Y_pred))\n",
    "print(f\"RMSE: {RMSE}\")\n",
    "\n",
    "r2 = r2_score(Y_test, Y_pred)\n",
    "print(f\"r2: {r2}\")\n",
    "\n",
    "plt.scatter(X_test, Y_test, color='blue', label='Actual')\n",
    "plt.plot(X_test, Y_pred, color='red', label='Predicted')\n",
    "plt.xlabel('Age')\n",
    "plt.ylabel('Cholesterol')\n",
    "plt.title('Simple Linear Regression')\n",
    "plt.legend()\n",
    "plt.show()\n",
    "\n",
    "input_value = [[55]]  # example input value for age\n",
    "predicted_value = model.predict(input_value)\n",
    "print(f\"Predicted Cholesterol for Age 55: {predicted_value[0]}\")\n"
   ]
  },
  {
   "cell_type": "markdown",
   "metadata": {
    "id": "rfxoKhbMetGy"
   },
   "source": [
    "### Multiple Linear Regression\n",
    "\n",
    "#### Steps:\n",
    "1. Read the CSV data into a pandas DataFrame\n",
    "2. Preprocess the data as necessary\n",
    "3. Choose the independent variables (X1, X2, ...) and the dependent variable (Y)\n",
    "4. Print the values of the y-intercept and independent variable coefficients\n",
    "5. Find the predicted \\(Y\\) (Y_pred)\n",
    "6. Calculate the Sum of Squared Errors (SSE) and RMSE\n",
    "7. Calculate the coefficient of determination (\\(r^2\\))\n",
    "8. Predict the output for given input values\n"
   ]
  },
  {
   "cell_type": "code",
   "execution_count": 3,
   "metadata": {
    "colab": {
     "base_uri": "https://localhost:8080/"
    },
    "id": "SJtXzmVLdOCY",
    "outputId": "557ed9dc-8fe1-446a-c034-fc8ed9c1a729"
   },
   "outputs": [
    {
     "name": "stdout",
     "output_type": "stream",
     "text": [
      "   age  sex  cp  trestbps  chol  fbs  restecg  thalach  exang  oldpeak  slope  \\\n",
      "0   63    1   3       145   233    1        0      150      0      2.3      0   \n",
      "1   37    1   2       130   250    0        1      187      0      3.5      0   \n",
      "2   41    0   1       130   204    0        0      172      0      1.4      2   \n",
      "3   56    1   1       120   236    0        1      178      0      0.8      2   \n",
      "4   57    0   0       120   354    0        1      163      1      0.6      2   \n",
      "\n",
      "   ca  thal  target  \n",
      "0   0     1       1  \n",
      "1   0     2       1  \n",
      "2   0     2       1  \n",
      "3   0     2       1  \n",
      "4   0     2       1  \n",
      "Intercept (b0): 246.88509312514057\n",
      "Coefficients: [13.30830984  4.34471433  6.34043012]\n",
      "SSE: 144619.4259665803\n",
      "RMSE: 48.69096694200289\n",
      "r2: -0.039351277243449\n",
      "Predicted Cholesterol for input values [55, 130, 150]: 247.5101522442578\n"
     ]
    },
    {
     "name": "stderr",
     "output_type": "stream",
     "text": [
      "C:\\ProgramData\\anaconda3\\Lib\\site-packages\\sklearn\\base.py:493: UserWarning: X does not have valid feature names, but StandardScaler was fitted with feature names\n",
      "  warnings.warn(\n"
     ]
    }
   ],
   "source": [
    "# Multiple Linear Regression\n",
    "\n",
    "from sklearn.preprocessing import StandardScaler\n",
    "\n",
    "data = pd.read_csv('heart.csv')\n",
    "\n",
    "print(data.head())\n",
    "\n",
    "\n",
    "X = data[['age', 'trestbps', 'thalach']]\n",
    "Y = data['chol']\n",
    "\n",
    "scaler = StandardScaler()\n",
    "X_scaled = scaler.fit_transform(X)\n",
    "\n",
    "X_train, X_test, Y_train, Y_test = train_test_split(X_scaled, Y, test_size=0.2, random_state=42)\n",
    "\n",
    "model = LinearRegression()\n",
    "\n",
    "model.fit(X_train, Y_train)\n",
    "\n",
    "Y_pred = model.predict(X_test)\n",
    "\n",
    "b0 = model.intercept_\n",
    "b_coefficients = model.coef_\n",
    "\n",
    "print(f\"Intercept (b0): {b0}\")\n",
    "print(f\"Coefficients: {b_coefficients}\")\n",
    "\n",
    "SSE = np.sum((Y_test - Y_pred) ** 2)\n",
    "print(f\"SSE: {SSE}\")\n",
    "\n",
    "RMSE = np.sqrt(mean_squared_error(Y_test, Y_pred))\n",
    "print(f\"RMSE: {RMSE}\")\n",
    "\n",
    "r2 = r2_score(Y_test, Y_pred)\n",
    "print(f\"r2: {r2}\")\n",
    "\n",
    "input_values = [[55, 130, 150]]\n",
    "input_values_scaled = scaler.transform(input_values)\n",
    "predicted_value = model.predict(input_values_scaled)\n",
    "print(f\"Predicted Cholesterol for input values [55, 130, 150]: {predicted_value[0]}\")\n"
   ]
  },
  {
   "cell_type": "code",
   "execution_count": 7,
   "metadata": {
    "colab": {
     "base_uri": "https://localhost:8080/",
     "height": 856
    },
    "id": "qtjx93bmdrrk",
    "outputId": "cd6d7a0e-13bd-49d8-a58f-bce15e53c3cb"
   },
   "outputs": [
    {
     "name": "stdout",
     "output_type": "stream",
     "text": [
      "   age  sex  cp  trestbps  chol  fbs  restecg  thalach  exang  oldpeak  slope  \\\n",
      "0   63    1   3       145   233    1        0      150      0      2.3      0   \n",
      "1   37    1   2       130   250    0        1      187      0      3.5      0   \n",
      "2   41    0   1       130   204    0        0      172      0      1.4      2   \n",
      "3   56    1   1       120   236    0        1      178      0      0.8      2   \n",
      "4   57    0   0       120   354    0        1      163      1      0.6      2   \n",
      "\n",
      "   ca  thal  target  \n",
      "0   0     1       1  \n",
      "1   0     2       1  \n",
      "2   0     2       1  \n",
      "3   0     2       1  \n",
      "4   0     2       1  \n",
      "Intercept (b0): 246.88509312514057\n",
      "Coefficients: [13.30830984  4.34471433  6.34043012]\n",
      "SSE: 144619.42596658028\n",
      "RMSE: 48.69096694200289\n",
      "r2: -0.03935127724344878\n"
     ]
    },
    {
     "data": {
      "image/png": "[encoded data removed]",
      "text/plain": [
       "<Figure size 640x480 with 1 Axes>"
      ]
     },
     "metadata": {},
     "output_type": "display_data"
    },
    {
     "name": "stdout",
     "output_type": "stream",
     "text": [
      "Predicted Cholesterol for input values [55, 130, 150]: 247.5101522442578\n"
     ]
    },
    {
     "name": "stderr",
     "output_type": "stream",
     "text": [
      "/usr/local/lib/python3.10/dist-packages/sklearn/base.py:465: UserWarning: X does not have valid feature names, but StandardScaler was fitted with feature names\n",
      "  warnings.warn(\n"
     ]
    }
   ],
   "source": [
    "# Multiple Linear Regression\n",
    "\n",
    "import pandas as pd\n",
    "import numpy as np\n",
    "import matplotlib.pyplot as plt\n",
    "from sklearn.preprocessing import StandardScaler\n",
    "from sklearn.model_selection import train_test_split\n",
    "from sklearn.linear_model import LinearRegression\n",
    "from sklearn.metrics import mean_squared_error, r2_score\n",
    "\n",
    "data = pd.read_csv('heart.csv')\n",
    "\n",
    "print(data.head())\n",
    "\n",
    "X = data[['age', 'trestbps', 'thalach']]\n",
    "Y = data['chol']\n",
    "\n",
    "scaler = StandardScaler()\n",
    "X_scaled = scaler.fit_transform(X)\n",
    "\n",
    "X_train, X_test, Y_train, Y_test = train_test_split(X_scaled, Y, test_size=0.2, random_state=42)\n",
    "\n",
    "model = LinearRegression()\n",
    "\n",
    "model.fit(X_train, Y_train)\n",
    "\n",
    "Y_pred = model.predict(X_test)\n",
    "\n",
    "b0 = model.intercept_\n",
    "b_coefficients = model.coef_\n",
    "\n",
    "print(f\"Intercept (b0): {b0}\")\n",
    "print(f\"Coefficients: {b_coefficients}\")\n",
    "\n",
    "SSE = np.sum((Y_test - Y_pred) ** 2)\n",
    "print(f\"SSE: {SSE}\")\n",
    "\n",
    "RMSE = np.sqrt(mean_squared_error(Y_test, Y_pred))\n",
    "print(f\"RMSE: {RMSE}\")\n",
    "\n",
    "r2 = r2_score(Y_test, Y_pred)\n",
    "print(f\"r2: {r2}\")\n",
    "\n",
    "plt.scatter(X_test[:, 0], Y_test, color='blue', label='Actual')\n",
    "plt.scatter(X_test[:, 0], Y_pred, color='red', label='Predicted')\n",
    "plt.xlabel('Standardized Age')\n",
    "plt.ylabel('Cholesterol')\n",
    "plt.title('Multiple Linear Regression: Actual vs. Predicted')\n",
    "plt.legend()\n",
    "plt.show()\n",
    "\n",
    "input_values = [[55, 130, 150]]  # example input\n",
    "input_values_scaled = scaler.transform(input_values)\n",
    "predicted_value = model.predict(input_values_scaled)\n",
    "print(f\"Predicted Cholesterol for input values [55, 130, 150]: {predicted_value[0]}\")\n"
   ]
  },
  {
   "cell_type": "markdown",
   "metadata": {
    "id": "ZXzckYzqe7Y8"
   },
   "source": [
    "### Logistic Regression\n",
    "\n",
    "#### Steps:\n",
    "1. Read the CSV data into a pandas DataFrame\n",
    "2. Preprocess the data (data imputation for null values, encoding techniques to convert categorical to numerical)\n",
    "3. Choose the independent variables (X1, X2, ...) and the dependent variable (Y)\n",
    "4. Find the regression line and convert it into a sigmoid curve\n",
    "5. Calculate the cost or error and reduce it using gradient descent\n",
    "6. Plot the graph for iteration against cost\n",
    "7. Find the accuracy of the model\n"
   ]
  },
  {
   "cell_type": "code",
   "execution_count": 5,
   "metadata": {
    "colab": {
     "base_uri": "https://localhost:8080/"
    },
    "id": "LNEKqoIkdbgs",
    "outputId": "85b6302c-3058-4f57-d9e6-ae06ab3273db"
   },
   "outputs": [
    {
     "name": "stdout",
     "output_type": "stream",
     "text": [
      "   age  sex  cp  trestbps  chol  fbs  restecg  thalach  exang  oldpeak  slope  \\\n",
      "0   63    1   3       145   233    1        0      150      0      2.3      0   \n",
      "1   37    1   2       130   250    0        1      187      0      3.5      0   \n",
      "2   41    0   1       130   204    0        0      172      0      1.4      2   \n",
      "3   56    1   1       120   236    0        1      178      0      0.8      2   \n",
      "4   57    0   0       120   354    0        1      163      1      0.6      2   \n",
      "\n",
      "   ca  thal  target  \n",
      "0   0     1       1  \n",
      "1   0     2       1  \n",
      "2   0     2       1  \n",
      "3   0     2       1  \n",
      "4   0     2       1  \n",
      "Accuracy: 0.7704918032786885\n",
      "Confusion Matrix:\n",
      "[[22  7]\n",
      " [ 7 25]]\n",
      "Predicted target for input values [55, 130, 200, 150]: 1\n"
     ]
    },
    {
     "name": "stderr",
     "output_type": "stream",
     "text": [
      "<ipython-input-5-8574962e86db>:15: FutureWarning: DataFrame.fillna with 'method' is deprecated and will raise in a future version. Use obj.ffill() or obj.bfill() instead.\n",
      "  data.fillna(method='ffill', inplace=True)\n",
      "/usr/local/lib/python3.10/dist-packages/sklearn/base.py:465: UserWarning: X does not have valid feature names, but StandardScaler was fitted with feature names\n",
      "  warnings.warn(\n"
     ]
    }
   ],
   "source": [
    "# Logistic Regression\n",
    "\n",
    "from sklearn.linear_model import LogisticRegression\n",
    "from sklearn.metrics import accuracy_score, confusion_matrix\n",
    "\n",
    "data = pd.read_csv('heart.csv')\n",
    "\n",
    "print(data.head())\n",
    "\n",
    "\n",
    "data.fillna(method='ffill', inplace=True)\n",
    "\n",
    "X = data[['age', 'trestbps', 'chol', 'thalach']]\n",
    "Y = data['target']\n",
    "\n",
    "scaler = StandardScaler()\n",
    "X_scaled = scaler.fit_transform(X)\n",
    "\n",
    "X_train, X_test, Y_train, Y_test = train_test_split(X_scaled, Y, test_size=0.2, random_state=42)\n",
    "\n",
    "model = LogisticRegression(max_iter=1000)\n",
    "\n",
    "model.fit(X_train, Y_train)\n",
    "\n",
    "Y_pred = model.predict(X_test)\n",
    "\n",
    "accuracy = accuracy_score(Y_test, Y_pred)\n",
    "print(f\"Accuracy: {accuracy}\")\n",
    "\n",
    "conf_matrix = confusion_matrix(Y_test, Y_pred)\n",
    "print(f\"Confusion Matrix:\\n{conf_matrix}\")\n",
    "\n",
    "input_values = [[55, 130, 200, 150]]\n",
    "input_values_scaled = scaler.transform(input_values)\n",
    "predicted_value = model.predict(input_values_scaled)\n",
    "print(f\"Predicted target for input values [55, 130, 200, 150]: {predicted_value[0]}\")\n"
   ]
  },
  {
   "cell_type": "code",
   "execution_count": 8,
   "metadata": {
    "colab": {
     "base_uri": "https://localhost:8080/",
     "height": 891
    },
    "id": "h3SwCzrFeRfl",
    "outputId": "50ab94a7-f261-4f96-b019-e71787e9caa5"
   },
   "outputs": [
    {
     "name": "stdout",
     "output_type": "stream",
     "text": [
      "   age  sex  cp  trestbps  chol  fbs  restecg  thalach  exang  oldpeak  slope  \\\n",
      "0   63    1   3       145   233    1        0      150      0      2.3      0   \n",
      "1   37    1   2       130   250    0        1      187      0      3.5      0   \n",
      "2   41    0   1       130   204    0        0      172      0      1.4      2   \n",
      "3   56    1   1       120   236    0        1      178      0      0.8      2   \n",
      "4   57    0   0       120   354    0        1      163      1      0.6      2   \n",
      "\n",
      "   ca  thal  target  \n",
      "0   0     1       1  \n",
      "1   0     2       1  \n",
      "2   0     2       1  \n",
      "3   0     2       1  \n",
      "4   0     2       1  \n",
      "Accuracy: 0.7704918032786885\n",
      "Confusion Matrix:\n",
      "[[22  7]\n",
      " [ 7 25]]\n"
     ]
    },
    {
     "name": "stderr",
     "output_type": "stream",
     "text": [
      "<ipython-input-8-2044e2d5c23d>:20: FutureWarning: DataFrame.fillna with 'method' is deprecated and will raise in a future version. Use obj.ffill() or obj.bfill() instead.\n",
      "  data.fillna(method='ffill', inplace=True)\n"
     ]
    },
    {
     "data": {
      "image/png": "[encoded data removed]",
      "text/plain": [
       "<Figure size 640x480 with 1 Axes>"
      ]
     },
     "metadata": {},
     "output_type": "display_data"
    },
    {
     "name": "stdout",
     "output_type": "stream",
     "text": [
      "Predicted target for input values [55, 130, 200, 150]: 1\n",
      "Predicted probability for input values [55, 130, 200, 150]: 0.5724695508159924\n"
     ]
    },
    {
     "name": "stderr",
     "output_type": "stream",
     "text": [
      "/usr/local/lib/python3.10/dist-packages/sklearn/base.py:465: UserWarning: X does not have valid feature names, but StandardScaler was fitted with feature names\n",
      "  warnings.warn(\n"
     ]
    }
   ],
   "source": [
    "# Logistic Regression\n",
    "\n",
    "import pandas as pd\n",
    "import numpy as np\n",
    "import matplotlib.pyplot as plt\n",
    "from sklearn.preprocessing import StandardScaler\n",
    "from sklearn.model_selection import train_test_split\n",
    "from sklearn.linear_model import LogisticRegression\n",
    "from sklearn.metrics import accuracy_score, confusion_matrix\n",
    "\n",
    "data = pd.read_csv('heart.csv')\n",
    "\n",
    "print(data.head())\n",
    "\n",
    "\n",
    "data.fillna(method='ffill', inplace=True)\n",
    "\n",
    "X = data[['age', 'trestbps', 'chol', 'thalach']]\n",
    "Y = data['target']\n",
    "\n",
    "scaler = StandardScaler()\n",
    "X_scaled = scaler.fit_transform(X)\n",
    "\n",
    "X_train, X_test, Y_train, Y_test = train_test_split(X_scaled, Y, test_size=0.2, random_state=42)\n",
    "\n",
    "model = LogisticRegression(max_iter=1000)\n",
    "\n",
    "model.fit(X_train, Y_train)\n",
    "\n",
    "Y_pred = model.predict(X_test)\n",
    "Y_prob = model.predict_proba(X_test)[:, 1]\n",
    "\n",
    "accuracy = accuracy_score(Y_test, Y_pred)\n",
    "print(f\"Accuracy: {accuracy}\")\n",
    "\n",
    "conf_matrix = confusion_matrix(Y_test, Y_pred)\n",
    "print(f\"Confusion Matrix:\\n{conf_matrix}\")\n",
    "\n",
    "plt.scatter(X_test[:, 0], Y_test, color='blue', label='Actual')\n",
    "plt.scatter(X_test[:, 0], Y_prob, color='red', label='Predicted Probability')\n",
    "plt.xlabel('Standardized Age')\n",
    "plt.ylabel('Probability')\n",
    "plt.title('Logistic Regression: Actual vs. Predicted Probability')\n",
    "plt.legend()\n",
    "plt.show()\n",
    "\n",
    "input_values = [[55, 130, 200, 150]]  # example input values for age, trestbps, chol, and thalach\n",
    "input_values_scaled = scaler.transform(input_values)\n",
    "predicted_value = model.predict(input_values_scaled)\n",
    "predicted_prob = model.predict_proba(input_values_scaled)[:, 1]\n",
    "print(f\"Predicted target for input values [55, 130, 200, 150]: {predicted_value[0]}\")\n",
    "print(f\"Predicted probability for input values [55, 130, 200, 150]: {predicted_prob[0]}\")\n"
   ]
  },
  {
   "cell_type": "code",
   "execution_count": null,
   "metadata": {
    "id": "FAUmlF-2eZvd"
   },
   "outputs": [],
   "source": []
  }
 ],
 "metadata": {
  "colab": {
   "provenance": []
  },
  "kernelspec": {
   "display_name": "Python 3 (ipykernel)",
   "language": "python",
   "name": "python3"
  },
  "language_info": {
   "codemirror_mode": {
    "name": "ipython",
    "version": 3
   },
   "file_extension": ".py",
   "mimetype": "text/x-python",
   "name": "python",
   "nbconvert_exporter": "python",
   "pygments_lexer": "ipython3",
   "version": "3.12.4"
  }
 },
 "nbformat": 4,
 "nbformat_minor": 4
}
